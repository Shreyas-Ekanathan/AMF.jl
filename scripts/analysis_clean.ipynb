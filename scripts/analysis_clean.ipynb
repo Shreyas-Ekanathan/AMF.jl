{
 "cells": [
  {
   "cell_type": "code",
   "execution_count": 1,
   "metadata": {},
   "outputs": [],
   "source": [
    "\n",
    "using AMF: solve2d, FiniteDifferenceMethod as fdm, MethodOfLinesMethod as mol\n",
    "using Plots\n",
    "using LinearAlgebra\n",
    "using SciMLOperators\n",
    "using LinearSolve\n",
    "using JLD2\n",
    "using DiffEqDevTools "
   ]
  },
  {
   "cell_type": "markdown",
   "metadata": {},
   "source": [
    "### Setup PDE"
   ]
  },
  {
   "cell_type": "code",
   "execution_count": 3,
   "metadata": {},
   "outputs": [
    {
     "data": {
      "text/plain": [
       "run_job (generic function with 2 methods)"
      ]
     },
     "metadata": {},
     "output_type": "display_data"
    }
   ],
   "source": [
    "A = .1\n",
    "B = .1\n",
    "C = 0.\n",
    "N = 100\n",
    "init_func = (x, y) -> 16 * x * y * (1 - x) * (1 - y) \n",
    "function g(du, u, p, t)\n",
    "    @. du += u^2 * (1 - u) + exp(t)\n",
    "end\n",
    "\n",
    "# kwargs: strategy, solver, rtol\n",
    "# be wary that this function closes over global variables, which I do change once at the very end, because I'm lazy:)\n",
    "function run_job(N=N; return_val=\"sol\", W_transform = true, final_t = 1, kwargs...)\n",
    "    return solve2d(A, B, C, N, g, init_func, fdm(; kwargs...);\n",
    "            return_val, W_transform, final_t);\n",
    "end"
   ]
  },
  {
   "cell_type": "markdown",
   "metadata": {},
   "source": [
    "\n",
    "### Collect linear solve timings\n"
   ]
  },
  {
   "cell_type": "code",
   "execution_count": null,
   "metadata": {},
   "outputs": [],
   "source": [
    "\n",
    "function linsolve_stats(N, strategy)\n",
    "    time_solve, sol = run_job(N; strategy, return_val=\"timing\");\n",
    "    time_per_linsolve = time_solve / sol.destats.nsolve\n",
    "    iterations_per_linsolve = sol.destats.nw / sol.destats.nsolve # only meaningful for iterative methods\n",
    "    return (;time_per_linsolve, nsolve=sol.destats.nsolve, iterations_per_linsolve)\n",
    "end\n",
    "\n",
    "function collect_linsolve_data(Ns)\n",
    "    amf = []\n",
    "    exact = []\n",
    "    concrete = []\n",
    "    for N in Ns \n",
    "       @info \"Now trying...\" N\n",
    "       push!(amf, (N, linsolve_stats(N, \"amf_W\")) )\n",
    "       push!(exact, (N, linsolve_stats(N, \"exact_W\")) )\n",
    "       (N <= 30) && push!(concrete, (N, linsolve_stats(N, \"concrete_jac\")))\n",
    "    end\n",
    "    return amf, exact, concrete\n",
    "end\n",
    "\n",
    "function get_linsolve_data()\n",
    "    amf, exact, concrete = collect_linsolve_data(10:10:30)\n",
    "    amf2, exact2 = collect_linsolve_data(40:20:140)\n",
    "\n",
    "    amf_full = vcat(amf, amf2)\n",
    "    concrete_full = concrete\n",
    "    exact_full = vcat(exact, exact2)\n",
    "    return amf_full, concrete_full, exact_full\n",
    "end\n",
    "\n",
    "data = get_linsolve_data()\n",
    "save(\"AMF/analysis/linsolve_data.jld2\", Dict(\"data\" => data))\n",
    "\n",
    "function plot_linsolve_data(amf, concrete, exact)\n",
    "    p = plot(yaxis=:log, xlabel=\"N\", ylabel=\"Time per linear solve\", legend=:topleft)\n",
    "    plot!(p, first.(amf), map(d -> d.time_per_linsolve, last.(amf)), label=\"AMF\", markershape=:circle)\n",
    "    plot!(p, first.(exact), map(d -> d.time_per_linsolve, last.(exact)), label=\"Krylov method\", markershape=:circle)\n",
    "    plot!(p, first.(concrete), map(d -> d.time_per_linsolve, last.(concrete)), label=\"Gaussian elimination\", markershape=:circle)\n",
    "    plot!(p, dpi=1000)\n",
    "    plot!(p, yticks=[1e-1, 1e-2, 1e-3, 1e-4, 1e-5])\n",
    "    savefig(p, \"AMF/analysis/timing.png\")\n",
    "    return p\n",
    "end\n",
    "\n",
    "p = plot_linsolve_data(data...)\n"
   ]
  },
  {
   "cell_type": "markdown",
   "metadata": {},
   "source": [
    "\n",
    "### Make AMF accuracy diagram\n"
   ]
  },
  {
   "cell_type": "code",
   "execution_count": null,
   "metadata": {},
   "outputs": [],
   "source": [
    "\n",
    "function get_amf_errors()\n",
    "    integrator_w = run_job(100; strategy=\"exact_W\", return_val=\"integrator\");\n",
    "    integrator_amf = run_job(100; strategy=\"amf_W\", return_val=\"integrator\");\n",
    "    step!(integrator_w)\n",
    "    step!(integrator_amf)\n",
    "    W_exact = integrator_w.cache.W;\n",
    "    W_amf = integrator_amf.cache.W;\n",
    "\n",
    "    γs = []\n",
    "    matvec_errors = []\n",
    "    inv_errors = []\n",
    "\n",
    "    for γ_log in -7:1:0\n",
    "        γ = 10.0^(γ_log)\n",
    "        @info \"Next γ...\" γ\n",
    "        integrator_amf.f.Wfact(W_amf, 0, 0, γ, 0)\n",
    "        integrator_w.f.Wfact(W_exact, 0, 0, γ, 0)\n",
    "        u = rand(100^2)\n",
    "        matvec_exact = W_exact * u\n",
    "        matvec_amf = W_amf * u\n",
    "        push!(γs, γ)\n",
    "        push!(matvec_errors, norm(matvec_exact - matvec_amf) / norm(matvec_exact))\n",
    "        linsolve_w = LinearSolve.set_b(integrator_w.cache.linsolve, copy(u))\n",
    "        linsolve_amf = LinearSolve.set_b(integrator_amf.cache.linsolve, copy(u))\n",
    "        inv_exact = solve(linsolve_w; reltol=1e-14).u\n",
    "        inv_amf = solve(linsolve_amf; reltol=1e-14).u\n",
    "        @show norm(inv_amf)\n",
    "        push!(inv_errors, norm(inv_exact - inv_amf) / norm(inv_exact))\n",
    "    end\n",
    "\n",
    "    return γs, matvec_errors, inv_errors\n",
    "end\n",
    "\n",
    "\n",
    "γs, matvec_errors, inv_errors = get_amf_errors()\n",
    "\n",
    "function plot_amf_errors(γs, matvec_errors, inv_errors)\n",
    "    p = plot(yticks=(10.).^(-7:1:0), xaxis=:log, yaxis=:log, markershape=:circle)\n",
    "    plot!(p, yticks=(10.).^(-7:1:0), label=\"Matrix-vector product\")\n",
    "    plot!(p, xlabel=\"γ\", ylabel=\"Relative error\")\n",
    "    plot!(p, γs[1:7], γs[1:7].^2 * 1e7,  label=\"Quadratic scaling\", linestyle=:dash)\n",
    "    plot!(p, γs, matvec_errors,  label=\"Matrix-vector product\", legend=:topleft, markershape=:circle)\n",
    "    plot!(p, γs, inv_errors,  label=\"Inversion\", markershape=:circle)\n",
    "    plot!(p, dpi=800)\n",
    "    savefig(p, \"AMF/analysis/amferrors.png\")\n",
    "    return p\n",
    "end\n",
    "\n",
    "plot_amf_errors(γs, matvec_errors, inv_errors)\n"
   ]
  },
  {
   "cell_type": "markdown",
   "metadata": {},
   "source": [
    "\n",
    "### Plot exact solution\n"
   ]
  },
  {
   "cell_type": "code",
   "execution_count": null,
   "metadata": {},
   "outputs": [],
   "source": [
    "\n",
    "exact_sol, _ = run_job(100; strategy=\"exact_jac\", return_val=\"sol\", reltol=1e-14);\n",
    "p = heatmap(exact_sol)\n",
    "plot!(p, dpi=800)\n",
    "savefig(p, \"AMF/analysis/exact.png\")\n"
   ]
  },
  {
   "cell_type": "markdown",
   "metadata": {},
   "source": [
    "\n",
    "### Make work-precision diagram\n"
   ]
  },
  {
   "cell_type": "code",
   "execution_count": null,
   "metadata": {},
   "outputs": [],
   "source": [
    "\n",
    "function get_workprec_data(rtols_log=(-1:-1:-10))\n",
    "    reltols = []\n",
    "    errors_w = []\n",
    "    errors_amf = []\n",
    "    time_solves_w = []\n",
    "    time_solves_amf = []\n",
    "    solns_w = [] \n",
    "    solns_amf = []\n",
    "\n",
    "    for rtol_log in rtols_log \n",
    "        @info \"Next rtol...\" rtol=\"1e$(rtol_log)\"\n",
    "        reltol = 10.0^(rtol_log)\n",
    "        push!(reltols, reltol)\n",
    "        # \"sol\" is the 2D array solution, while \"soln\" refers to the solution object produced by DiffEq.jl.\n",
    "        # sorry for the poor naming here!\n",
    "        sol_w, soln_w = run_job(N; strategy=\"exact_W\", return_val=\"sol\", reltol);\n",
    "        @info \"W solved\"\n",
    "        sol_amf, soln_amf = run_job(N; strategy=\"amf_W\", return_val=\"sol\", reltol)\n",
    "        @info \"AMF solved\"\n",
    "        push!(errors_w, norm(sol_w - exact_sol) / norm(exact_sol))\n",
    "        push!(errors_amf, norm(sol_amf - exact_sol) / norm(exact_sol))\n",
    "        push!(solns_w, soln_w)\n",
    "        push!(solns_amf, soln_amf)\n",
    "        time_solve_w, _ = run_job(N; strategy=\"exact_W\", return_val=\"timing\", reltol);\n",
    "        @info \"W timed\"\n",
    "        time_solve_amf, _ = run_job(N; strategy=\"amf_W\", return_val=\"timing\", reltol)\n",
    "        @info \"AMF timed\"\n",
    "        push!(time_solves_w, time_solve_w)\n",
    "        push!(time_solves_amf, time_solve_amf)\n",
    "    end\n",
    "    return reltols, errors_w, errors_amf, time_solves_w, time_solves_amf, solns_w, solns_amf\n",
    "end\n",
    "\n",
    "data = get_workprec_data(-1:-1:-10)\n",
    "save(\"AMF/analysis/workprec_data.jld2\", Dict(\"data\" => data))\n",
    "\n",
    "function plot_workprec_data(data)\n",
    "    reltols, errors_w, errors_amf, time_solves_w, time_solves_amf, solns_w, solns_amf = data;\n",
    "    p = plot(yaxis=:log, xaxis=:log, xlabel=\"Relative error\", ylabel=\"Time (s)\", legend=:topright, xticks=[1e-10, 1e-8, 1e-6, 1e-4, 1e-2])\n",
    "    plot!(p, errors_w, time_solves_w, label=\"Krylov method\", markershape=:circle)\n",
    "    plot!(p, errors_amf, time_solves_amf, label=\"AMF-W\", markershape=:circle)\n",
    "    plot!(p, dpi=800)\n",
    "    savefig(p, \"AMF/analysis/workprec.png\")\n",
    "    return p\n",
    "end\n",
    "\n",
    "plot_workprec_data(data)\n"
   ]
  },
  {
   "attachments": {},
   "cell_type": "markdown",
   "metadata": {},
   "source": [
    "\n",
    "### Benchmark pseudotime integrator\n"
   ]
  },
  {
   "cell_type": "code",
   "execution_count": null,
   "metadata": {},
   "outputs": [],
   "source": [
    "function get_pseudotime_data()\n",
    "    integrator_amf = run_job(N; strategy=\"amf_W\", return_val=\"integrator\");\n",
    "    J = integrator_amf.cache.J\n",
    "\n",
    "    iters_amf = []\n",
    "    errs_amf = []\n",
    "    iters_krylov = []\n",
    "    errs_krylov = []\n",
    "    for reltol_log in -1:-1:-13\n",
    "        @info \"Considering reltol 1e$(reltol_log)\"\n",
    "        reltol = 10.0^(reltol_log)\n",
    "\n",
    "        # solve via AMF-W\n",
    "        exact_sol, soln = run_job(N; strategy=\"exact_W\", return_val=\"sol\", reltol, final_t=100000);\n",
    "        num_iters_amf = soln.destats.nsolve\n",
    "        err_amf = norm(exact_sol[2:N+1, 2:N+1][:] - soln_discretized) / norm(soln_discretized)\n",
    "\n",
    "        push!(iters_amf, num_iters_amf)\n",
    "        push!(errs_amf, err_amf)\n",
    "\n",
    "        # solve via Krylov\n",
    "        prob = LinearProblem(-J, goal_discretized)\n",
    "        krylov_sol = solve(prob; reltol, maxiters=1000, abstol=1e-30)\n",
    "        num_iters_krylov = krylov_sol.iters\n",
    "        err_krylov = norm(krylov_sol - soln_discretized) / norm(soln_discretized)\n",
    "\n",
    "        push!(iters_krylov, num_iters_krylov)\n",
    "        push!(errs_krylov, err_krylov)\n",
    "    end\n",
    "\n",
    "    # Remove points where AMF has already reached max convergence\n",
    "    iters_amf = iters_amf[1:6]\n",
    "    errs_amf = errs_amf[1:6]\n",
    "\n",
    "    return iters_amf, errs_amf, iters_krylov, errs_krylov\n",
    "end\n",
    "\n",
    "data = get_pseudotime_data()\n",
    "save(\"AMF/analysis/data.jld2\", Dict(\"data\" => data))\n",
    "\n",
    "function plot_pseudotime_data(data)\n",
    "    iters_amf, errs_amf, iters_krylov, errs_krylov = data\n",
    "    p = plot(xlabel=\"Relative error\", ylabel=\"Iterations\",\n",
    "            xaxis=:log)\n",
    "    plot!(p, errs_krylov, iters_krylov, markershape=:circle, label=\"Krylov method\")\n",
    "    plot!(p, errs_amf, iters_amf, markershape=:circle, label=\"Pseudotime AMF-W\")\n",
    "    plot!(p, dpi=700)\n",
    "    savefig(p, \"AMF/analysis/pseudotime.png\")\n",
    "    return p\n",
    "end\n",
    "\n",
    "plot_pseudotime_data(data)"
   ]
  }
 ],
 "metadata": {
  "kernelspec": {
   "display_name": "Julia 1.8.1",
   "language": "julia",
   "name": "julia-1.8"
  },
  "language_info": {
   "file_extension": ".jl",
   "mimetype": "application/julia",
   "name": "julia",
   "version": "1.8.1"
  },
  "orig_nbformat": 4
 },
 "nbformat": 4,
 "nbformat_minor": 2
}
